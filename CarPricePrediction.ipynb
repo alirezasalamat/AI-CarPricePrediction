{
 "cells": [
  {
   "cell_type": "markdown",
   "id": "unable-wright",
   "metadata": {},
   "source": [
    "\n",
    "# Alireza Salamat\n",
    "\n",
    "### 810197526\n",
    "\n",
    "## Machine Learning\n",
    "\n"
   ]
  },
  {
   "cell_type": "code",
   "execution_count": 1,
   "id": "adjacent-knight",
   "metadata": {},
   "outputs": [],
   "source": [
    "from __future__ import unicode_literals\n",
    "from hazm import *\n",
    "from hazm import utils as utl\n",
    "import pandas as pd\n",
    "import matplotlib.pyplot as plt\n",
    "from sklearn import feature_selection\n",
    "import math\n",
    "import numpy as np\n",
    "\n",
    "from sklearn.feature_selection import VarianceThreshold, mutual_info_classif, mutual_info_regression\n",
    "from sklearn.feature_selection import SelectKBest, SelectPercentile\n",
    "\n",
    "from sklearn.ensemble import RandomForestClassifier\n",
    "from sklearn.metrics import accuracy_score\n",
    "from sklearn.feature_extraction.text import (CountVectorizer, \n",
    "                                             TfidfVectorizer,\n",
    "                                             TfidfTransformer)"
   ]
  },
  {
   "cell_type": "markdown",
   "id": "caring-newark",
   "metadata": {},
   "source": [
    "\n",
    "<div dir='rtl'>\n",
    "    در ابتدا دیتاست را میخوانیم و در یک دیتافریم ذخیره می کنیم\n",
    "    </div>"
   ]
  },
  {
   "cell_type": "code",
   "execution_count": 2,
   "id": "twenty-burst",
   "metadata": {},
   "outputs": [
    {
     "data": {
      "text/html": [
       "<div>\n",
       "<style scoped>\n",
       "    .dataframe tbody tr th:only-of-type {\n",
       "        vertical-align: middle;\n",
       "    }\n",
       "\n",
       "    .dataframe tbody tr th {\n",
       "        vertical-align: top;\n",
       "    }\n",
       "\n",
       "    .dataframe thead th {\n",
       "        text-align: right;\n",
       "    }\n",
       "</style>\n",
       "<table border=\"1\" class=\"dataframe\">\n",
       "  <thead>\n",
       "    <tr style=\"text-align: right;\">\n",
       "      <th></th>\n",
       "      <th>brand</th>\n",
       "      <th>category</th>\n",
       "      <th>created_at</th>\n",
       "      <th>description</th>\n",
       "      <th>image_count</th>\n",
       "      <th>mileage</th>\n",
       "      <th>price</th>\n",
       "      <th>title</th>\n",
       "      <th>year</th>\n",
       "    </tr>\n",
       "  </thead>\n",
       "  <tbody>\n",
       "    <tr>\n",
       "      <th>0</th>\n",
       "      <td>NaN</td>\n",
       "      <td>heavy</td>\n",
       "      <td>Tuesday 07PM</td>\n",
       "      <td>سریال 43j$NUMبدون شکستگی سه حلقه لاستیک نو یک ...</td>\n",
       "      <td>4</td>\n",
       "      <td>NaN</td>\n",
       "      <td>-1</td>\n",
       "      <td>لودر کاتر پیلار 950</td>\n",
       "      <td>NaN</td>\n",
       "    </tr>\n",
       "    <tr>\n",
       "      <th>1</th>\n",
       "      <td>سایر</td>\n",
       "      <td>light</td>\n",
       "      <td>Wednesday 04AM</td>\n",
       "      <td>دوگانه ال پی جی بیمه با تخفیف دارد \\nتودوزی نو...</td>\n",
       "      <td>3</td>\n",
       "      <td>180000.0</td>\n",
       "      <td>-1</td>\n",
       "      <td>پاترول شش سیلندر چهار درب</td>\n",
       "      <td>1366</td>\n",
       "    </tr>\n",
       "    <tr>\n",
       "      <th>2</th>\n",
       "      <td>پژو ۴۰۵::Peugeot 405</td>\n",
       "      <td>light</td>\n",
       "      <td>Wednesday 11AM</td>\n",
       "      <td>پژو 2000فنی تازه تعمیر بدنه بدون خطو خش تخیف ب...</td>\n",
       "      <td>0</td>\n",
       "      <td>290000.0</td>\n",
       "      <td>8500000</td>\n",
       "      <td>پژو مدل 81 مشکی</td>\n",
       "      <td>1381</td>\n",
       "    </tr>\n",
       "    <tr>\n",
       "      <th>3</th>\n",
       "      <td>نیسان::Nissan</td>\n",
       "      <td>light</td>\n",
       "      <td>Wednesday 01PM</td>\n",
       "      <td>سلام.\\nماشین کاملا سالم همه چی فابریک متور زد ...</td>\n",
       "      <td>3</td>\n",
       "      <td>175000.0</td>\n",
       "      <td>19500000</td>\n",
       "      <td>پاترول 2در</td>\n",
       "      <td>1372</td>\n",
       "    </tr>\n",
       "    <tr>\n",
       "      <th>4</th>\n",
       "      <td>سمند::Samand</td>\n",
       "      <td>light</td>\n",
       "      <td>Thursday 07AM</td>\n",
       "      <td>سمند ال ایکس بدون رنگ تمامی سرویس ها انجام شده...</td>\n",
       "      <td>4</td>\n",
       "      <td>80000.0</td>\n",
       "      <td>23900000</td>\n",
       "      <td>سمند دوگانه کارخانه</td>\n",
       "      <td>1391</td>\n",
       "    </tr>\n",
       "    <tr>\n",
       "      <th>...</th>\n",
       "      <td>...</td>\n",
       "      <td>...</td>\n",
       "      <td>...</td>\n",
       "      <td>...</td>\n",
       "      <td>...</td>\n",
       "      <td>...</td>\n",
       "      <td>...</td>\n",
       "      <td>...</td>\n",
       "      <td>...</td>\n",
       "    </tr>\n",
       "    <tr>\n",
       "      <th>130438</th>\n",
       "      <td>NaN</td>\n",
       "      <td>heavy</td>\n",
       "      <td>Wednesday 03PM</td>\n",
       "      <td>بادسان فوق بیرنگ سفید رنگ بیمه تابرج 3.96 تخفی...</td>\n",
       "      <td>2</td>\n",
       "      <td>NaN</td>\n",
       "      <td>48000000</td>\n",
       "      <td>بادسان 8b14 مدل83</td>\n",
       "      <td>NaN</td>\n",
       "    </tr>\n",
       "    <tr>\n",
       "      <th>130439</th>\n",
       "      <td>NaN</td>\n",
       "      <td>heavy</td>\n",
       "      <td>Wednesday 06PM</td>\n",
       "      <td>باسلام .تراکتورازصفری دست خودم بوده.سالم.ودارا...</td>\n",
       "      <td>4</td>\n",
       "      <td>NaN</td>\n",
       "      <td>-1</td>\n",
       "      <td>تراکتورگلدونی ۲۳۸ایتالیا</td>\n",
       "      <td>NaN</td>\n",
       "    </tr>\n",
       "    <tr>\n",
       "      <th>130440</th>\n",
       "      <td>سمند::Samand</td>\n",
       "      <td>light</td>\n",
       "      <td>Wednesday 06PM</td>\n",
       "      <td>ماشینم تصادفیه با خریدار توافق میکنم سر قیمتش</td>\n",
       "      <td>3</td>\n",
       "      <td>20000.0</td>\n",
       "      <td>-1</td>\n",
       "      <td>خودرو سمند تصادفی مدل92</td>\n",
       "      <td>1392</td>\n",
       "    </tr>\n",
       "    <tr>\n",
       "      <th>130441</th>\n",
       "      <td>پراید صندوق‌دار::Pride</td>\n",
       "      <td>light</td>\n",
       "      <td>Thursday 03PM</td>\n",
       "      <td>سند۲ برگ،بیمه تا برج$NUMتخفیفات بیمه 15 سال،مع...</td>\n",
       "      <td>4</td>\n",
       "      <td>123000.0</td>\n",
       "      <td>6900000</td>\n",
       "      <td>پراید 79 بسیار سالم</td>\n",
       "      <td>1379</td>\n",
       "    </tr>\n",
       "    <tr>\n",
       "      <th>130442</th>\n",
       "      <td>پراید صندوق‌دار::Pride</td>\n",
       "      <td>light</td>\n",
       "      <td>Friday 04PM</td>\n",
       "      <td>پراید دوگانه کارخانه میباشد و کم کارکرد.روکش ....</td>\n",
       "      <td>3</td>\n",
       "      <td>43000.0</td>\n",
       "      <td>17400000</td>\n",
       "      <td>پراید دوگانه کارخانه مدل93</td>\n",
       "      <td>1393</td>\n",
       "    </tr>\n",
       "  </tbody>\n",
       "</table>\n",
       "<p>130443 rows × 9 columns</p>\n",
       "</div>"
      ],
      "text/plain": [
       "                         brand category      created_at  \\\n",
       "0                          NaN    heavy    Tuesday 07PM   \n",
       "1                         سایر    light  Wednesday 04AM   \n",
       "2         پژو ۴۰۵::Peugeot 405    light  Wednesday 11AM   \n",
       "3                نیسان::Nissan    light  Wednesday 01PM   \n",
       "4                 سمند::Samand    light   Thursday 07AM   \n",
       "...                        ...      ...             ...   \n",
       "130438                     NaN    heavy  Wednesday 03PM   \n",
       "130439                     NaN    heavy  Wednesday 06PM   \n",
       "130440            سمند::Samand    light  Wednesday 06PM   \n",
       "130441  پراید صندوق‌دار::Pride    light   Thursday 03PM   \n",
       "130442  پراید صندوق‌دار::Pride    light     Friday 04PM   \n",
       "\n",
       "                                              description  image_count  \\\n",
       "0       سریال 43j$NUMبدون شکستگی سه حلقه لاستیک نو یک ...            4   \n",
       "1       دوگانه ال پی جی بیمه با تخفیف دارد \\nتودوزی نو...            3   \n",
       "2       پژو 2000فنی تازه تعمیر بدنه بدون خطو خش تخیف ب...            0   \n",
       "3       سلام.\\nماشین کاملا سالم همه چی فابریک متور زد ...            3   \n",
       "4       سمند ال ایکس بدون رنگ تمامی سرویس ها انجام شده...            4   \n",
       "...                                                   ...          ...   \n",
       "130438  بادسان فوق بیرنگ سفید رنگ بیمه تابرج 3.96 تخفی...            2   \n",
       "130439  باسلام .تراکتورازصفری دست خودم بوده.سالم.ودارا...            4   \n",
       "130440      ماشینم تصادفیه با خریدار توافق میکنم سر قیمتش            3   \n",
       "130441  سند۲ برگ،بیمه تا برج$NUMتخفیفات بیمه 15 سال،مع...            4   \n",
       "130442  پراید دوگانه کارخانه میباشد و کم کارکرد.روکش ....            3   \n",
       "\n",
       "         mileage     price                       title  year  \n",
       "0            NaN        -1         لودر کاتر پیلار 950   NaN  \n",
       "1       180000.0        -1   پاترول شش سیلندر چهار درب  1366  \n",
       "2       290000.0   8500000             پژو مدل 81 مشکی  1381  \n",
       "3       175000.0  19500000                  پاترول 2در  1372  \n",
       "4        80000.0  23900000         سمند دوگانه کارخانه  1391  \n",
       "...          ...       ...                         ...   ...  \n",
       "130438       NaN  48000000           بادسان 8b14 مدل83   NaN  \n",
       "130439       NaN        -1    تراکتورگلدونی ۲۳۸ایتالیا   NaN  \n",
       "130440   20000.0        -1     خودرو سمند تصادفی مدل92  1392  \n",
       "130441  123000.0   6900000         پراید 79 بسیار سالم  1379  \n",
       "130442   43000.0  17400000  پراید دوگانه کارخانه مدل93  1393  \n",
       "\n",
       "[130443 rows x 9 columns]"
      ]
     },
     "execution_count": 2,
     "metadata": {},
     "output_type": "execute_result"
    }
   ],
   "source": [
    "train = pd.read_csv('vehicles.csv')\n",
    "train = pd.DataFrame(train)\n",
    "train"
   ]
  },
  {
   "cell_type": "markdown",
   "id": "coordinate-ordinary",
   "metadata": {},
   "source": [
    "\n",
    "<div dir='rtl'>\n",
    "    داده های دسته ای را باید به صورتی در بیاوریم که قابل استفاده باشند. در ابتدا ردیف داده های از دست رفته (NaN)را حذف می کنیم.چون دیتاستمان بسیار بزرگ است تاثیر منفی زیادی بر روی نتیجه نهاییمان نمیگذارد.<br>\n",
    "    برای قابل استفاده کردن ستون year این ستون را به عدد تبدیل می کنیم و همنین مقدار هایی که < 1366 دارند را با عدد ۱۳۵۵ جایگزین می کنیم.<br>\n",
    "    ستون created at را به اینصورت در می آوریم که ساعت های هفته را نشان می دهند، یعنی روز هفته را در ۲۴ ضرب میکنیم و با ساعت آن روز جمع می کنیم.<br>\n",
    "    برای ستون کتگوری به ماشین های سنگین برچسب ۱ و به ماشین های سبک برچسب صفر را می دهیم، البته ردیف ماشین های سنگین در حذف کردن داده های از دست رفته حذف شده است! <br>\n",
    "    ستون برند را به این صورت تغییر می دهیم که یک دیکشنری از برند ماشین های موجود در دیتاست تهیه میکنیم و به هر برند یک شماره نسبت می دهیم و با آن برچسب گذاری می کنیم. <br>\n",
    "</div>"
   ]
  },
  {
   "cell_type": "code",
   "execution_count": 3,
   "id": "offshore-prerequisite",
   "metadata": {},
   "outputs": [],
   "source": [
    "train['year'] = train['year'].replace(to_replace='<1366', value='1355')\n",
    "train['year'] = train['year'].fillna(value=train['year'].mode()[0])\n",
    "train['mileage'] = train['mileage'].fillna(value=train['mileage'].mean())\n",
    "\n",
    "train.dropna(inplace = True)\n",
    "\n",
    "train['year'] = list(map(int, train['year']))\n",
    "\n",
    "\n",
    "date_dict = {'Saturday': 0,\n",
    "            'Sunday':1,\n",
    "            'Monday':2,\n",
    "            'Tuesday':3,\n",
    "            'Wednesday':4,\n",
    "            'Thursday':5,\n",
    "            'Friday':6}\n",
    "\n",
    "def date_converter(x):\n",
    "    x = x.split()\n",
    "    day = date_dict[x[0]]\n",
    "    \n",
    "    hour = 0\n",
    "    if x[1][2] == 'A':\n",
    "        if int(x[1][:2]) == 12:\n",
    "            hour = 0\n",
    "        hour = int(x[1][:2])\n",
    "    else:\n",
    "        if int(x[1][:2]) == 12:\n",
    "            hour = 12\n",
    "        hour = int(x[1][:2]) + 12\n",
    "        \n",
    "    return day * 24 + hour\n",
    "\n",
    "train['created_at'] = list(map(date_converter, train['created_at']))\n",
    "train['category'] = train['category'].replace(to_replace = ['light', 'heavy'], value = [0, 1])\n",
    "\n",
    "index = 0\n",
    "brand_dict = dict()\n",
    "for i in train['brand'].unique():\n",
    "    brand_dict.update({i:index})\n",
    "    index += 1\n",
    "train['brand'] = train['brand'].replace(brand_dict)\n",
    "\n"
   ]
  },
  {
   "cell_type": "markdown",
   "id": "atlantic-hamilton",
   "metadata": {},
   "source": [
    "<div dir='rtl'>\n",
    "   در قطعه کد زیر، ردیف هایی که قیمت ندارند را از دیتاست اصلی خارح می کنیم و در دیتاست دیگری نگه داری می کنیم. \n",
    "</div>"
   ]
  },
  {
   "cell_type": "code",
   "execution_count": 4,
   "id": "comprehensive-processing",
   "metadata": {},
   "outputs": [
    {
     "data": {
      "text/html": [
       "<div>\n",
       "<style scoped>\n",
       "    .dataframe tbody tr th:only-of-type {\n",
       "        vertical-align: middle;\n",
       "    }\n",
       "\n",
       "    .dataframe tbody tr th {\n",
       "        vertical-align: top;\n",
       "    }\n",
       "\n",
       "    .dataframe thead th {\n",
       "        text-align: right;\n",
       "    }\n",
       "</style>\n",
       "<table border=\"1\" class=\"dataframe\">\n",
       "  <thead>\n",
       "    <tr style=\"text-align: right;\">\n",
       "      <th></th>\n",
       "      <th>brand</th>\n",
       "      <th>category</th>\n",
       "      <th>created_at</th>\n",
       "      <th>description</th>\n",
       "      <th>image_count</th>\n",
       "      <th>mileage</th>\n",
       "      <th>price</th>\n",
       "      <th>title</th>\n",
       "      <th>year</th>\n",
       "    </tr>\n",
       "  </thead>\n",
       "  <tbody>\n",
       "    <tr>\n",
       "      <th>1</th>\n",
       "      <td>0</td>\n",
       "      <td>0</td>\n",
       "      <td>100</td>\n",
       "      <td>دوگانه ال پی جی بیمه با تخفیف دارد \\nتودوزی نو...</td>\n",
       "      <td>3</td>\n",
       "      <td>180000.0</td>\n",
       "      <td>-1</td>\n",
       "      <td>پاترول شش سیلندر چهار درب</td>\n",
       "      <td>1366</td>\n",
       "    </tr>\n",
       "    <tr>\n",
       "      <th>11</th>\n",
       "      <td>7</td>\n",
       "      <td>0</td>\n",
       "      <td>6</td>\n",
       "      <td>پژو پارس سفید ،بدون رنگ ،ازنظر فنی کاملا سالم،...</td>\n",
       "      <td>2</td>\n",
       "      <td>108000.0</td>\n",
       "      <td>-1</td>\n",
       "      <td>پژو پارس سفید 88بدون رنگ</td>\n",
       "      <td>1388</td>\n",
       "    </tr>\n",
       "    <tr>\n",
       "      <th>23</th>\n",
       "      <td>10</td>\n",
       "      <td>0</td>\n",
       "      <td>80</td>\n",
       "      <td>گلگیر سمت راننده رنگ دارد متوری تمیز بدون ظربه</td>\n",
       "      <td>0</td>\n",
       "      <td>20000.0</td>\n",
       "      <td>-1</td>\n",
       "      <td>پراید بار ١٥١</td>\n",
       "      <td>1393</td>\n",
       "    </tr>\n",
       "    <tr>\n",
       "      <th>37</th>\n",
       "      <td>14</td>\n",
       "      <td>0</td>\n",
       "      <td>34</td>\n",
       "      <td>هفت سال تخفیف بیمه.عقب جلو پلم.بدون هیچ روغن ر...</td>\n",
       "      <td>2</td>\n",
       "      <td>114000.0</td>\n",
       "      <td>-1</td>\n",
       "      <td>زانتیا 88</td>\n",
       "      <td>1388</td>\n",
       "    </tr>\n",
       "    <tr>\n",
       "      <th>45</th>\n",
       "      <td>8</td>\n",
       "      <td>0</td>\n",
       "      <td>83</td>\n",
       "      <td>فنى وبدنه بسیارسالم ٣لکه رنگ شدگى</td>\n",
       "      <td>4</td>\n",
       "      <td>138000.0</td>\n",
       "      <td>-1</td>\n",
       "      <td>پژو٢٠٦مدل١٣٨٥</td>\n",
       "      <td>1385</td>\n",
       "    </tr>\n",
       "    <tr>\n",
       "      <th>...</th>\n",
       "      <td>...</td>\n",
       "      <td>...</td>\n",
       "      <td>...</td>\n",
       "      <td>...</td>\n",
       "      <td>...</td>\n",
       "      <td>...</td>\n",
       "      <td>...</td>\n",
       "      <td>...</td>\n",
       "      <td>...</td>\n",
       "    </tr>\n",
       "    <tr>\n",
       "      <th>130402</th>\n",
       "      <td>1</td>\n",
       "      <td>0</td>\n",
       "      <td>136</td>\n",
       "      <td>مدل 88دوتکه رنگ رنگ نوک مدادی داری دزدگیرکفپوش...</td>\n",
       "      <td>0</td>\n",
       "      <td>160000.0</td>\n",
       "      <td>-1</td>\n",
       "      <td>خودروپژو405</td>\n",
       "      <td>1388</td>\n",
       "    </tr>\n",
       "    <tr>\n",
       "      <th>130417</th>\n",
       "      <td>3</td>\n",
       "      <td>0</td>\n",
       "      <td>72</td>\n",
       "      <td>سمند مدل 92 موتوری به شرط \\nبدون رنگ .خط و خش ...</td>\n",
       "      <td>3</td>\n",
       "      <td>100000.0</td>\n",
       "      <td>-1</td>\n",
       "      <td>فروش سمند LX. ef7</td>\n",
       "      <td>1392</td>\n",
       "    </tr>\n",
       "    <tr>\n",
       "      <th>130434</th>\n",
       "      <td>10</td>\n",
       "      <td>0</td>\n",
       "      <td>64</td>\n",
       "      <td>ماشین سالم . یک گلگیر رنگ . بیمه تا برج ۷ سال ...</td>\n",
       "      <td>3</td>\n",
       "      <td>199000.0</td>\n",
       "      <td>-1</td>\n",
       "      <td>وانت پیکان مدل ۸۴</td>\n",
       "      <td>1384</td>\n",
       "    </tr>\n",
       "    <tr>\n",
       "      <th>130437</th>\n",
       "      <td>1</td>\n",
       "      <td>0</td>\n",
       "      <td>104</td>\n",
       "      <td>۴۰۵slxیا همان tufصفر کیلومتر سند خورده تحویل د...</td>\n",
       "      <td>3</td>\n",
       "      <td>1.0</td>\n",
       "      <td>-1</td>\n",
       "      <td>۴۰۵slx</td>\n",
       "      <td>1395</td>\n",
       "    </tr>\n",
       "    <tr>\n",
       "      <th>130440</th>\n",
       "      <td>3</td>\n",
       "      <td>0</td>\n",
       "      <td>114</td>\n",
       "      <td>ماشینم تصادفیه با خریدار توافق میکنم سر قیمتش</td>\n",
       "      <td>3</td>\n",
       "      <td>20000.0</td>\n",
       "      <td>-1</td>\n",
       "      <td>خودرو سمند تصادفی مدل92</td>\n",
       "      <td>1392</td>\n",
       "    </tr>\n",
       "  </tbody>\n",
       "</table>\n",
       "<p>16652 rows × 9 columns</p>\n",
       "</div>"
      ],
      "text/plain": [
       "        brand  category  created_at  \\\n",
       "1           0         0         100   \n",
       "11          7         0           6   \n",
       "23         10         0          80   \n",
       "37         14         0          34   \n",
       "45          8         0          83   \n",
       "...       ...       ...         ...   \n",
       "130402      1         0         136   \n",
       "130417      3         0          72   \n",
       "130434     10         0          64   \n",
       "130437      1         0         104   \n",
       "130440      3         0         114   \n",
       "\n",
       "                                              description  image_count  \\\n",
       "1       دوگانه ال پی جی بیمه با تخفیف دارد \\nتودوزی نو...            3   \n",
       "11      پژو پارس سفید ،بدون رنگ ،ازنظر فنی کاملا سالم،...            2   \n",
       "23         گلگیر سمت راننده رنگ دارد متوری تمیز بدون ظربه            0   \n",
       "37      هفت سال تخفیف بیمه.عقب جلو پلم.بدون هیچ روغن ر...            2   \n",
       "45                      فنى وبدنه بسیارسالم ٣لکه رنگ شدگى            4   \n",
       "...                                                   ...          ...   \n",
       "130402  مدل 88دوتکه رنگ رنگ نوک مدادی داری دزدگیرکفپوش...            0   \n",
       "130417  سمند مدل 92 موتوری به شرط \\nبدون رنگ .خط و خش ...            3   \n",
       "130434  ماشین سالم . یک گلگیر رنگ . بیمه تا برج ۷ سال ...            3   \n",
       "130437  ۴۰۵slxیا همان tufصفر کیلومتر سند خورده تحویل د...            3   \n",
       "130440      ماشینم تصادفیه با خریدار توافق میکنم سر قیمتش            3   \n",
       "\n",
       "         mileage  price                      title  year  \n",
       "1       180000.0     -1  پاترول شش سیلندر چهار درب  1366  \n",
       "11      108000.0     -1   پژو پارس سفید 88بدون رنگ  1388  \n",
       "23       20000.0     -1              پراید بار ١٥١  1393  \n",
       "37      114000.0     -1                  زانتیا 88  1388  \n",
       "45      138000.0     -1              پژو٢٠٦مدل١٣٨٥  1385  \n",
       "...          ...    ...                        ...   ...  \n",
       "130402  160000.0     -1                خودروپژو405  1388  \n",
       "130417  100000.0     -1          فروش سمند LX. ef7  1392  \n",
       "130434  199000.0     -1          وانت پیکان مدل ۸۴  1384  \n",
       "130437       1.0     -1                     ۴۰۵slx  1395  \n",
       "130440   20000.0     -1    خودرو سمند تصادفی مدل92  1392  \n",
       "\n",
       "[16652 rows x 9 columns]"
      ]
     },
     "execution_count": 4,
     "metadata": {},
     "output_type": "execute_result"
    }
   ],
   "source": [
    "grouped = train.groupby(train.price)\n",
    "df_noPrice = grouped.get_group(-1)\n",
    "train = train[train['price'] != -1]\n",
    "df_noPrice"
   ]
  },
  {
   "cell_type": "code",
   "execution_count": 5,
   "id": "purple-relations",
   "metadata": {},
   "outputs": [
    {
     "data": {
      "text/html": [
       "<div>\n",
       "<style scoped>\n",
       "    .dataframe tbody tr th:only-of-type {\n",
       "        vertical-align: middle;\n",
       "    }\n",
       "\n",
       "    .dataframe tbody tr th {\n",
       "        vertical-align: top;\n",
       "    }\n",
       "\n",
       "    .dataframe thead th {\n",
       "        text-align: right;\n",
       "    }\n",
       "</style>\n",
       "<table border=\"1\" class=\"dataframe\">\n",
       "  <thead>\n",
       "    <tr style=\"text-align: right;\">\n",
       "      <th></th>\n",
       "      <th>brand</th>\n",
       "      <th>category</th>\n",
       "      <th>created_at</th>\n",
       "      <th>image_count</th>\n",
       "      <th>mileage</th>\n",
       "      <th>year</th>\n",
       "    </tr>\n",
       "  </thead>\n",
       "  <tbody>\n",
       "    <tr>\n",
       "      <th>118436</th>\n",
       "      <td>5</td>\n",
       "      <td>0</td>\n",
       "      <td>16</td>\n",
       "      <td>2</td>\n",
       "      <td>167.0</td>\n",
       "      <td>1391</td>\n",
       "    </tr>\n",
       "    <tr>\n",
       "      <th>64867</th>\n",
       "      <td>12</td>\n",
       "      <td>0</td>\n",
       "      <td>65</td>\n",
       "      <td>0</td>\n",
       "      <td>70000.0</td>\n",
       "      <td>1393</td>\n",
       "    </tr>\n",
       "    <tr>\n",
       "      <th>89222</th>\n",
       "      <td>1</td>\n",
       "      <td>0</td>\n",
       "      <td>86</td>\n",
       "      <td>0</td>\n",
       "      <td>240000.0</td>\n",
       "      <td>1382</td>\n",
       "    </tr>\n",
       "    <tr>\n",
       "      <th>2103</th>\n",
       "      <td>5</td>\n",
       "      <td>0</td>\n",
       "      <td>151</td>\n",
       "      <td>1</td>\n",
       "      <td>470000.0</td>\n",
       "      <td>1393</td>\n",
       "    </tr>\n",
       "    <tr>\n",
       "      <th>114777</th>\n",
       "      <td>5</td>\n",
       "      <td>0</td>\n",
       "      <td>63</td>\n",
       "      <td>1</td>\n",
       "      <td>100000.0</td>\n",
       "      <td>1393</td>\n",
       "    </tr>\n",
       "    <tr>\n",
       "      <th>...</th>\n",
       "      <td>...</td>\n",
       "      <td>...</td>\n",
       "      <td>...</td>\n",
       "      <td>...</td>\n",
       "      <td>...</td>\n",
       "      <td>...</td>\n",
       "    </tr>\n",
       "    <tr>\n",
       "      <th>26756</th>\n",
       "      <td>8</td>\n",
       "      <td>0</td>\n",
       "      <td>35</td>\n",
       "      <td>1</td>\n",
       "      <td>24000.0</td>\n",
       "      <td>1394</td>\n",
       "    </tr>\n",
       "    <tr>\n",
       "      <th>57824</th>\n",
       "      <td>0</td>\n",
       "      <td>0</td>\n",
       "      <td>35</td>\n",
       "      <td>2</td>\n",
       "      <td>200.0</td>\n",
       "      <td>1381</td>\n",
       "    </tr>\n",
       "    <tr>\n",
       "      <th>53655</th>\n",
       "      <td>23</td>\n",
       "      <td>0</td>\n",
       "      <td>147</td>\n",
       "      <td>0</td>\n",
       "      <td>360000.0</td>\n",
       "      <td>1369</td>\n",
       "    </tr>\n",
       "    <tr>\n",
       "      <th>54880</th>\n",
       "      <td>1</td>\n",
       "      <td>0</td>\n",
       "      <td>99</td>\n",
       "      <td>2</td>\n",
       "      <td>147.0</td>\n",
       "      <td>1388</td>\n",
       "    </tr>\n",
       "    <tr>\n",
       "      <th>85928</th>\n",
       "      <td>7</td>\n",
       "      <td>0</td>\n",
       "      <td>36</td>\n",
       "      <td>1</td>\n",
       "      <td>66000.0</td>\n",
       "      <td>1389</td>\n",
       "    </tr>\n",
       "  </tbody>\n",
       "</table>\n",
       "<p>83039 rows × 6 columns</p>\n",
       "</div>"
      ],
      "text/plain": [
       "        brand  category  created_at  image_count   mileage  year\n",
       "118436      5         0          16            2     167.0  1391\n",
       "64867      12         0          65            0   70000.0  1393\n",
       "89222       1         0          86            0  240000.0  1382\n",
       "2103        5         0         151            1  470000.0  1393\n",
       "114777      5         0          63            1  100000.0  1393\n",
       "...       ...       ...         ...          ...       ...   ...\n",
       "26756       8         0          35            1   24000.0  1394\n",
       "57824       0         0          35            2     200.0  1381\n",
       "53655      23         0         147            0  360000.0  1369\n",
       "54880       1         0          99            2     147.0  1388\n",
       "85928       7         0          36            1   66000.0  1389\n",
       "\n",
       "[83039 rows x 6 columns]"
      ]
     },
     "execution_count": 5,
     "metadata": {},
     "output_type": "execute_result"
    }
   ],
   "source": [
    "from sklearn.model_selection import train_test_split\n",
    "\n",
    "x = train.drop(['price', 'title', 'description'], 1)\n",
    "y = train.price\n",
    "X_train, X_test, y_train, y_test = train_test_split(x, y, test_size = 0.20, random_state = 0)\n",
    "X_train"
   ]
  },
  {
   "cell_type": "markdown",
   "id": "focal-ministry",
   "metadata": {},
   "source": [
    "<div dir='rtl'>\n",
    "پرسش ۱:<br>\n",
    "    با توجه به نمودار زیر می بینیم که ویژگی brand بیشترین gain را می دهد و بعد از آن year و mileage قرار دارد. <br>\n",
    "    ویژگی های created at  و image count گین بسیار کمی دارند و می توان گفت اطلاعات خاصی به ما اضافه نمی کند.<br>\n",
    "    مقدار های nan ویژگی year را با mode و ویژگی mileage را با میانگین پر می کنیم. و ردیف مقدارهای nan ویژگی brand را دراپ می کنیم.\n",
    "</div>"
   ]
  },
  {
   "cell_type": "code",
   "execution_count": 6,
   "id": "ranging-probability",
   "metadata": {},
   "outputs": [
    {
     "name": "stdout",
     "output_type": "stream",
     "text": [
      "brand          0.731711\n",
      "category       0.000000\n",
      "created_at     0.002423\n",
      "image_count    0.012720\n",
      "mileage        0.237517\n",
      "year           0.552746\n",
      "dtype: float64\n"
     ]
    },
    {
     "data": {
      "image/png": "[encoded data removed]",
      "text/plain": [
       "<Figure size 432x288 with 1 Axes>"
      ]
     },
     "metadata": {
      "needs_background": "light"
     },
     "output_type": "display_data"
    }
   ],
   "source": [
    "mi = mutual_info_regression(X_train, y_train)\n",
    "\n",
    "import matplotlib.pyplot as plt\n",
    "mi = pd.Series(mi)\n",
    "mi.index = X_train.columns\n",
    "print(mi)\n",
    "\n",
    "import matplotlib.pyplot as plt\n",
    "mi = pd.Series(mi)\n",
    "mi.index = X_train.columns\n",
    "mi.plot.bar()\n",
    "plt.show()\n"
   ]
  },
  {
   "cell_type": "markdown",
   "id": "progressive-regular",
   "metadata": {},
   "source": [
    "\n",
    "<div dir='rtl'>\n",
    "   مجموعه stop words را در زیر می سازیم:\n",
    "</div>"
   ]
  },
  {
   "cell_type": "code",
   "execution_count": 7,
   "id": "chronic-probe",
   "metadata": {},
   "outputs": [],
   "source": [
    "normalizer = Normalizer()\n",
    "lemmatizer = Lemmatizer()\n",
    "stop_words = open('stopwords', 'r').read().splitlines()\n",
    "stop_words = [lemmatizer.lemmatize(w) for w in stop_words]\n",
    "stop_words.append('\\n')\n",
    "stop_words.append('\\r')\n"
   ]
  },
  {
   "cell_type": "markdown",
   "id": "ancient-place",
   "metadata": {},
   "source": [
    "\n",
    "<div dir='rtl'>\n",
    "   ستون های ویژگی های title و description را یکی می کنیم.\n",
    "</div>"
   ]
  },
  {
   "cell_type": "code",
   "execution_count": 8,
   "id": "indoor-parent",
   "metadata": {
    "scrolled": false
   },
   "outputs": [
    {
     "name": "stderr",
     "output_type": "stream",
     "text": [
      "<ipython-input-8-2ae0b4267468>:1: SettingWithCopyWarning: \n",
      "A value is trying to be set on a copy of a slice from a DataFrame.\n",
      "Try using .loc[row_indexer,col_indexer] = value instead\n",
      "\n",
      "See the caveats in the documentation: https://pandas.pydata.org/pandas-docs/stable/user_guide/indexing.html#returning-a-view-versus-a-copy\n",
      "  train['description'] = train['description'] + ' ' + train['title']\n"
     ]
    }
   ],
   "source": [
    "train['description'] = train['description'] + ' ' + train['title']\n",
    "train = train.drop('title', 1)\n"
   ]
  },
  {
   "cell_type": "code",
   "execution_count": 9,
   "id": "imposed-bradford",
   "metadata": {},
   "outputs": [],
   "source": [
    "train['description'] = train['description'].apply(lambda x: normalizer.normalize(x))\n",
    "train['description'] = train['description'].apply(lambda x: word_tokenize(x))\n",
    "\n",
    "train['description'] = train['description'].apply(lambda x: [lemmatizer.lemmatize(y) for y in x])\n",
    "\n",
    "train['description'] = train['description'].apply(lambda x: [i for i in x if i not in stop_words])\n",
    "\n",
    "train['description'] = train['description'].apply(lambda x: ' '.join(x))\n",
    "\n"
   ]
  },
  {
   "cell_type": "markdown",
   "id": "introductory-apache",
   "metadata": {},
   "source": [
    "<div dir='rtl'>\n",
    "   پرسش ۲: <br>\n",
    "    داده های دسته ای را برچسب گذاری کرده ایم به این صورت که مثلا برای brand هر کدام از برندها را یک برچسب عددی به آن اختصاص داده ایم.<br> \n",
    "      بقیه داده های دسته ای در بالاتر توضیح داده شده اند.<br><br>\n",
    "    پرسش ۳: حال با استفاده از tf idf و count vectorizer کلمات پرتکرار متن را بدست می آوریم. این کلمات را به صورت ngram انتخاب کرده ایم تا دقت بیشتری داشته باشد. مقایسه این دو روش در قسمت های بعدی نمایش داده شده است.<br><br>\n",
    "    پرسش ۴: در بالاتر نحوه برخورد با داده های از دست رفته توضیح داده شده است.\n",
    "</div>"
   ]
  },
  {
   "cell_type": "markdown",
   "id": "printable-indiana",
   "metadata": {},
   "source": [
    "\n",
    "<div dir='rtl'>\n",
    "   با استفاده از tf idf کلمات پر تکرار ستون توضیحات و تایتل را بدست می آوریم و ۴۰ تای بیشتر آن ها را به عنوان ویژگی جدید دیتاست اضافه می کنیم. به طرزی که به دیتاست ۵۰ ستون اضافه می شود. <br>\n",
    "    همان طور که در زیر می بینیم کلمه های که از دو روش تولید شده اند دقیقا عین هم می باشند.\n",
    "</div>"
   ]
  },
  {
   "cell_type": "code",
   "execution_count": 10,
   "id": "modern-firewall",
   "metadata": {
    "scrolled": false
   },
   "outputs": [
    {
     "name": "stdout",
     "output_type": "stream",
     "text": [
      "Tf Idf words:\n",
      "Index(['ال پی جی', 'بیمه آخر سال', 'بیمه اخر سال', 'بیمه برج سال',\n",
      "       'بیمه برج ۱۰', 'بیمه برج ۱۱', 'بیمه برج ۱۲', 'بیمه برج ۹۶',\n",
      "       'بیمه سال تخفیف', 'تخفیف بیمه سال', 'تخفیف پای معامله', 'تک برگ سند',\n",
      "       'جلو عقب پلمپ', 'حلقه لاستیک نو', 'دوگانه سی ان', 'دوگانه سی ان جی',\n",
      "       'رنگ بیمه برج', 'رنگ خط خش', 'رنگ فن سالم', 'رنگ نوک مدادی',\n",
      "       'سال تخفیف بیمه', 'سمند ال ایکس', 'سی ان جی', 'عقب جلو پلمپ',\n",
      "       'فن العاده سالم', 'فن سالم بیمه', 'فن سالم رنگ', 'فن سالم شرط',\n",
      "       'لاستیک جلو نو', 'لاستیک نو بیمه', 'لاستیک ۷۰ درصد', 'لاستیک ۸۰ درصد',\n",
      "       'مصرف کننده تماس', 'پراید صندوق دار', 'پراید هاچ بک', 'پژو پارس مدل',\n",
      "       'پژو ۲۰۶ تیپ', 'پژو ۲۰۶ مدل', 'پژو ۴۰۵ مدل', '۱۰ سال تخفیف'],\n",
      "      dtype='object')\n",
      "Count vectorizer words:\n",
      "Index(['ال پی جی', 'بیمه آخر سال', 'بیمه اخر سال', 'بیمه برج سال',\n",
      "       'بیمه برج ۱۰', 'بیمه برج ۱۱', 'بیمه برج ۱۲', 'بیمه برج ۹۶',\n",
      "       'بیمه سال تخفیف', 'تخفیف بیمه سال', 'تخفیف پای معامله', 'تک برگ سند',\n",
      "       'جلو عقب پلمپ', 'حلقه لاستیک نو', 'دوگانه سی ان', 'دوگانه سی ان جی',\n",
      "       'رنگ بیمه برج', 'رنگ خط خش', 'رنگ فن سالم', 'رنگ نوک مدادی',\n",
      "       'سال تخفیف بیمه', 'سمند ال ایکس', 'سی ان جی', 'عقب جلو پلمپ',\n",
      "       'فن العاده سالم', 'فن سالم بیمه', 'فن سالم رنگ', 'فن سالم شرط',\n",
      "       'لاستیک جلو نو', 'لاستیک نو بیمه', 'لاستیک ۷۰ درصد', 'لاستیک ۸۰ درصد',\n",
      "       'مصرف کننده تماس', 'پراید صندوق دار', 'پراید هاچ بک', 'پژو پارس مدل',\n",
      "       'پژو ۲۰۶ تیپ', 'پژو ۲۰۶ مدل', 'پژو ۴۰۵ مدل', '۱۰ سال تخفیف'],\n",
      "      dtype='object')\n"
     ]
    }
   ],
   "source": [
    "vectorizer1 = TfidfVectorizer(analyzer='word', min_df=350, max_features=40, ngram_range=(3,8))  \n",
    "vectorized1 = vectorizer1.fit_transform(train['description'])\n",
    "new_df1 = pd.DataFrame(vectorized1.toarray(), columns=vectorizer1.get_feature_names())\n",
    "print('Tf Idf words:')\n",
    "print(new_df1.columns)\n",
    "\n",
    "vectorizer2 = CountVectorizer(analyzer='word',min_df=350, max_features=40, ngram_range=(3, 8))\n",
    "vectorized2 = vectorizer2.fit_transform(train['description'])\n",
    "new_df2 = pd.DataFrame(vectorized2.toarray(), columns=vectorizer2.get_feature_names())\n",
    "print('Count vectorizer words:')\n",
    "print(new_df1.columns)"
   ]
  },
  {
   "cell_type": "markdown",
   "id": "certified-crown",
   "metadata": {},
   "source": [
    "<div dir='rtl'>\n",
    "حال ستون کلمه هایی که پیدا کردیم را به دیتاست اضافه می کنیم.\n",
    "</div>"
   ]
  },
  {
   "cell_type": "code",
   "execution_count": 11,
   "id": "formed-driving",
   "metadata": {},
   "outputs": [],
   "source": [
    "df1 = train.copy()\n",
    "df2 = train.copy()\n",
    "df1[vectorizer1.get_feature_names()] = new_df1[vectorizer1.get_feature_names()].values\n",
    "df2[vectorizer2.get_feature_names()] = new_df2[vectorizer2.get_feature_names()].values\n",
    "df1 = df1.drop('description', 1)\n",
    "df2 = df2.drop('description', 1)"
   ]
  },
  {
   "cell_type": "markdown",
   "id": "angry-domestic",
   "metadata": {},
   "source": [
    "<div dir='rtl'>\n",
    "تایع های زیر برای بدست آوردن mse و rmse استفاده می شوند.\n",
    "</div>"
   ]
  },
  {
   "cell_type": "code",
   "execution_count": 12,
   "id": "british-segment",
   "metadata": {},
   "outputs": [],
   "source": [
    "from sklearn.metrics import mean_squared_error\n",
    "\n",
    "def trains(model,X_train, X_test, y_train):\n",
    "    model.fit(X_train, y_train)\n",
    "    y_pred= model.predict(X_test)\n",
    "    return y_pred\n",
    "\n",
    "def test(y_test, y_pred):\n",
    "    mse = mean_squared_error(np.array(y_test), y_pred)\n",
    "    rmse = mean_squared_error(np.array(y_test), y_pred, squared = False)\n",
    "    return mse,rmse"
   ]
  },
  {
   "cell_type": "markdown",
   "id": "statistical-vintage",
   "metadata": {},
   "source": [
    "## decision tree with tf idf\n",
    "<div dir='rtl'>\n",
    "  در زیر مدل decision tree با استفاده از tf idf بررسی شده است که با گذاشتن grid search cv پارامترهای بهینه را هم بدست آورده ایم.\n",
    "</div>"
   ]
  },
  {
   "cell_type": "code",
   "execution_count": 13,
   "id": "precious-compression",
   "metadata": {},
   "outputs": [
    {
     "name": "stdout",
     "output_type": "stream",
     "text": [
      "{'max_depth': 8, 'min_samples_split': 18} 0.7586051294643456\n"
     ]
    },
    {
     "data": {
      "text/plain": [
       "(144309951390427.7, 12012907.69923867)"
      ]
     },
     "execution_count": 13,
     "metadata": {},
     "output_type": "execute_result"
    }
   ],
   "source": [
    "from sklearn.tree import DecisionTreeRegressor\n",
    "from sklearn.model_selection import GridSearchCV\n",
    "\n",
    "x = df1.drop('price', 1)\n",
    "y = df1.price\n",
    "X_train, X_test, y_train, y_test = train_test_split(x, y, test_size = 0.1)\n",
    "\n",
    "param_grid = {\n",
    "    'max_depth': range(3,20),\n",
    "    'min_samples_split': range(2,20)\n",
    "}\n",
    "\n",
    "\n",
    "clf = DecisionTreeRegressor(max_depth = 8, min_samples_split= 24)\n",
    "grid_search = GridSearchCV(estimator = clf, param_grid = param_grid, n_jobs = -1, return_train_score=True)\n",
    "grid_r = grid_search.fit(X_train, y_train)\n",
    "print(grid_r.best_params_, grid_r.best_score_)\n",
    "\n",
    "y_pred = trains(clf, X_train, X_test, y_train)\n",
    "mse, rmse = test(y_test, y_pred)\n",
    "\n",
    "mse,rmse"
   ]
  },
  {
   "cell_type": "markdown",
   "id": "pleasant-scanner",
   "metadata": {},
   "source": [
    "\n",
    "<div dir='rtl'>\n",
    "  حال پارامترهای بهینه ای که بدست آمده است را جایگزین می کنیم و دوباره مدل را اجرا می کنیم. که می بینیم دقت مدل کمی بهتر شده است. <br>\n",
    "    در زیر پارامتر min_smaples_split را ۱۹ گذاشتیم با اینکه در بالا ۱۸ بدست آمده است زیرا با هر دفعه ران کردن grid search cv، عدد متفاوتی به ما می دهد که ۱۹ از همه آنها بهینه تر است\n",
    "</div>\n"
   ]
  },
  {
   "cell_type": "code",
   "execution_count": 66,
   "id": "decimal-chambers",
   "metadata": {},
   "outputs": [
    {
     "data": {
      "text/plain": [
       "(150735388753259.6, 12277434.127424981)"
      ]
     },
     "execution_count": 66,
     "metadata": {},
     "output_type": "execute_result"
    }
   ],
   "source": [
    "x = df1.drop('price', 1)\n",
    "y = df1.price\n",
    "X_train, X_test, y_train, y_test = train_test_split(x, y, test_size = 0.1)\n",
    "\n",
    "clf = DecisionTreeRegressor(max_depth = 9, min_samples_split= 19)\n",
    "\n",
    "y_pred = trains(clf, X_train, X_test, y_train)\n",
    "mse, rmse = test(y_test, y_pred)\n",
    "\n",
    "mse,rmse"
   ]
  },
  {
   "cell_type": "markdown",
   "id": "elder-conflict",
   "metadata": {},
   "source": [
    "## decision tree count vectorizer\n",
    "<div dir='rtl'>\n",
    "  در زیر مدل decision tree با استفاده از count vectorizer بررسی شده است که با گذاشتن grid search cv پارامترهای بهینه را هم بدست آورده ایم.\n",
    "</div>"
   ]
  },
  {
   "cell_type": "code",
   "execution_count": 69,
   "id": "composite-memphis",
   "metadata": {},
   "outputs": [
    {
     "name": "stdout",
     "output_type": "stream",
     "text": [
      "{'max_depth': 9, 'min_samples_split': 19} 0.7686163618753762\n"
     ]
    },
    {
     "data": {
      "text/plain": [
       "(162590235646232.34, 12751087.626011843)"
      ]
     },
     "execution_count": 69,
     "metadata": {},
     "output_type": "execute_result"
    }
   ],
   "source": [
    "x = df2.drop('price', 1)\n",
    "y = df2.price\n",
    "X_train, X_test, y_train, y_test = train_test_split(x, y, test_size = 0.1)\n",
    "\n",
    "param_grid = {\n",
    "    'max_depth': range(3,20),\n",
    "    'min_samples_split': range(2, 20)\n",
    "}\n",
    "\n",
    "\n",
    "clf = DecisionTreeRegressor(max_depth = 8, min_samples_split= 24)\n",
    "grid_search = GridSearchCV(estimator = clf, param_grid = param_grid, n_jobs = -1, return_train_score=True)\n",
    "grid_r = grid_search.fit(X_train, y_train)\n",
    "print(grid_r.best_params_, grid_r.best_score_)\n",
    "\n",
    "y_pred = trains(clf, X_train, X_test, y_train)\n",
    "mse, rmse = test(y_test, y_pred)\n",
    "\n",
    "mse,rmse"
   ]
  },
  {
   "cell_type": "markdown",
   "id": "suspended-training",
   "metadata": {},
   "source": [
    "## linear regression"
   ]
  },
  {
   "cell_type": "code",
   "execution_count": 59,
   "id": "silver-rubber",
   "metadata": {},
   "outputs": [
    {
     "data": {
      "text/plain": [
       "(513561346088649.2, 22661891.93533164)"
      ]
     },
     "execution_count": 59,
     "metadata": {},
     "output_type": "execute_result"
    }
   ],
   "source": [
    "from sklearn.linear_model import LinearRegression\n",
    "\n",
    "x = df1.drop('price', 1)\n",
    "y = df1.price\n",
    "X_train, X_test, y_train, y_test = train_test_split(x, y, test_size = 0.15)\n",
    "\n",
    "reg = LinearRegression()\n",
    "y_pred = trains(reg,X_train, X_test, y_train)\n",
    "mse, rmse = test(y_test, y_pred)\n",
    "\n",
    "mse,rmse"
   ]
  },
  {
   "cell_type": "markdown",
   "id": "dress-michigan",
   "metadata": {},
   "source": [
    "## k nearest neighbour"
   ]
  },
  {
   "cell_type": "code",
   "execution_count": null,
   "id": "destroyed-watson",
   "metadata": {},
   "outputs": [],
   "source": [
    "from sklearn.neighbors import KNeighborsRegressor\n",
    "\n",
    "\n",
    "X_train, X_test, y_train, y_test = train_test_split(x, y, test_size = 0.2)\n",
    "\n",
    "\n",
    "param_grid_knn = {\n",
    "    'n_neighbors': range(3, 10, 20)\n",
    "}\n",
    "\n",
    "knn = KNeighborsRegressor(n_neighbors=10)\n",
    "grid_search = GridSearchCV(estimator = knn, param_grid = param_grid_knn, n_jobs = -1, return_train_score=True)\n",
    "grid_r = grid_search.fit(X_train, y_train)\n",
    "print(grid_r.best_params_, grid_r.best_score_)\n",
    "y_pred = trains(knn,X_train, X_test, y_train)\n",
    "mse, rmse = test(y_test, y_pred)\n",
    "\n",
    "mse,rmse"
   ]
  },
  {
   "cell_type": "markdown",
   "id": "informed-sample",
   "metadata": {},
   "source": [
    "\n",
    "<div dir='rtl'>\n",
    "پرسش ۵: <br>\n",
    "  نسبت داده های تست به تمرین ۱ به ۹ تقسیم شده است. در زیر برای مدل linear regression داده ها را به نسبت های دیگری تقسیم می کنیم. <br>\n",
    "    همانطور که می بینیم برای نسبت 0.002 تست، نتایج رنج مختلفی دارد و قابل پیش بینی نیست.\n",
    "    \n",
    "</div>\n"
   ]
  },
  {
   "cell_type": "code",
   "execution_count": 76,
   "id": "talented-consideration",
   "metadata": {},
   "outputs": [
    {
     "name": "stdout",
     "output_type": "stream",
     "text": [
      "\n",
      "test no. 0  linear regression with 0.6 data for test:\n",
      "mse:  531960897233311.0    rmse:  23064277.51379416\n",
      "\n",
      "test no. 1  linear regression with 0.6 data for test:\n",
      "mse:  531557403464544.94    rmse:  23055528.696270335\n",
      "\n",
      "test no. 2  linear regression with 0.6 data for test:\n",
      "mse:  530889317942593.06    rmse:  23041035.52235865\n",
      "\n",
      "test no. 3  linear regression with 0.6 data for test:\n",
      "mse:  528485424910124.25    rmse:  22988810.863333587\n",
      "\n",
      "test no. 4  linear regression with 0.6 data for test:\n",
      "mse:  535637665631137.7    rmse:  23143847.25215619\n",
      "\n",
      "test no. 5  linear regression with 0.6 data for test:\n",
      "mse:  533365087893474.3    rmse:  23094698.263746038\n",
      "\n",
      "test no. 6  linear regression with 0.6 data for test:\n",
      "mse:  533659747296049.56    rmse:  23101076.756204452\n",
      "\n",
      "test no. 7  linear regression with 0.6 data for test:\n",
      "mse:  525174021986861.9    rmse:  22916675.63122675\n",
      "\n",
      "test no. 8  linear regression with 0.6 data for test:\n",
      "mse:  531167914327738.7    rmse:  23047080.386195097\n",
      "\n",
      "test no. 9  linear regression with 0.6 data for test:\n",
      "mse:  542585710133960.44    rmse:  23293469.259300135\n"
     ]
    }
   ],
   "source": [
    "from sklearn.linear_model import LinearRegression\n",
    "\n",
    "x = df1.drop('price', 1)\n",
    "y = df1.price\n",
    "\n",
    "reg = LinearRegression()\n",
    "for i in range(10):\n",
    "    X_train, X_test, y_train, y_test = train_test_split(x, y, test_size = 0.6)\n",
    "    y_pred = trains(reg,X_train, X_test, y_train)\n",
    "    mse, rmse = test(y_test, y_pred)\n",
    "\n",
    "    print('\\ntest no.', i,' linear regression with 0.6 data for test:')\n",
    "    print('mse: ', mse, '   rmse: ', rmse)\n"
   ]
  },
  {
   "cell_type": "code",
   "execution_count": 121,
   "id": "retained-election",
   "metadata": {},
   "outputs": [
    {
     "name": "stdout",
     "output_type": "stream",
     "text": [
      "\n",
      "test no. 0  linear regression with 0.002 data for test:\n",
      "mse:  522469836247477.4    rmse:  22857599.091931712\n",
      "\n",
      "test no. 1  linear regression with 0.002 data for test:\n",
      "mse:  324414863274691.06    rmse:  18011520.293264836\n",
      "\n",
      "test no. 2  linear regression with 0.002 data for test:\n",
      "mse:  383514625549381.9    rmse:  19583529.445668925\n",
      "\n",
      "test no. 3  linear regression with 0.002 data for test:\n",
      "mse:  272261400795079.06    rmse:  16500345.475022003\n",
      "\n",
      "test no. 4  linear regression with 0.002 data for test:\n",
      "mse:  499138387187721.06    rmse:  22341405.219630234\n",
      "\n",
      "test no. 5  linear regression with 0.002 data for test:\n",
      "mse:  523428778468352.9    rmse:  22878565.918089204\n",
      "\n",
      "test no. 6  linear regression with 0.002 data for test:\n",
      "mse:  726925997377039.4    rmse:  26961565.18781948\n",
      "\n",
      "test no. 7  linear regression with 0.002 data for test:\n",
      "mse:  611687741303081.4    rmse:  24732321.79361819\n",
      "\n",
      "test no. 8  linear regression with 0.002 data for test:\n",
      "mse:  498706908808477.9    rmse:  22331746.658254877\n",
      "\n",
      "test no. 9  linear regression with 0.002 data for test:\n",
      "mse:  246394344123240.22    rmse:  15696953.338888416\n"
     ]
    }
   ],
   "source": [
    "for i in range(10):\n",
    "    X_train, X_test, y_train, y_test = train_test_split(x, y, test_size = 0.002)\n",
    "    y_pred = trains(reg,X_train, X_test, y_train)\n",
    "    mse, rmse = test(y_test, y_pred)\n",
    "\n",
    "    print('\\ntest no.', i,' linear regression with 0.002 data for test:')\n",
    "    print('mse: ', mse, '   rmse: ', rmse)"
   ]
  },
  {
   "cell_type": "markdown",
   "id": "allied-scheme",
   "metadata": {},
   "source": [
    "\n",
    "<div dir='rtl'>\n",
    "     در یادگیری ماشین هنگامی که عملکرد یادگیری بسیار خوب باشد، اما عملکرد تخمین آن مدل بر روی دیتاست دیگری خوب نباشد overfitting می گوییم.<br>\n",
    "     زمانی که عملکرد یادگیری خوب نباشد و حتی برای دیتاستی که از روی آن ترین  شده است نتواند خوب جواب دهد underfitting رخ داده است.<br><br>\n",
    "پرسش ۶: <br>\n",
    " در زیر برای ارتفاع های مختلف درخت تصمیم را اجرا کرده ایم.\n",
    "</div>\n"
   ]
  },
  {
   "cell_type": "code",
   "execution_count": 114,
   "id": "dental-wagon",
   "metadata": {},
   "outputs": [
    {
     "name": "stdout",
     "output_type": "stream",
     "text": [
      "Decision Tree depth:  2 mse:  434787077917822.75 rmse:  20851548.57361493\n",
      "Decision Tree depth:  5 mse:  216956242150185.66 rmse:  14729434.54957405\n",
      "Decision Tree depth:  8 mse:  169824767866449.4 rmse:  13031683.23227853\n",
      "Decision Tree depth:  11 mse:  185687483269014.66 rmse:  13626719.461008018\n",
      "Decision Tree depth:  14 mse:  204285880819488.94 rmse:  14292861.183803925\n",
      "Decision Tree depth:  17 mse:  216111424419308.97 rmse:  14700728.70368367\n",
      "Decision Tree depth:  20 mse:  223782775844749.3 rmse:  14959370.837195972\n",
      "Decision Tree depth:  23 mse:  228267165609405.16 rmse:  15108513.017812347\n",
      "Decision Tree depth:  26 mse:  229888957478066.25 rmse:  15162089.48259\n",
      "Decision Tree depth:  29 mse:  230389730803867.38 rmse:  15178594.493689703\n",
      "Decision Tree depth:  32 mse:  231270101397797.0 rmse:  15207567.241271596\n",
      "Decision Tree depth:  35 mse:  229445064587371.12 rmse:  15147444.160232812\n",
      "Decision Tree depth:  38 mse:  228700361648532.06 rmse:  15122842.379940752\n"
     ]
    }
   ],
   "source": [
    "x = df2.drop('price', 1)\n",
    "y = df2.price\n",
    "X_train, X_test, y_train, y_test = train_test_split(x, y, test_size = 0.1)\n",
    "\n",
    "new_dict = {'depth': list(),\n",
    "           'mse': list(),\n",
    "           'rmse': list()}\n",
    "\n",
    "for i in range(2, 40, 3):\n",
    "    clf = DecisionTreeRegressor(max_depth = i, min_samples_split= 19)\n",
    "    y_pred = trains(clf, X_train, X_test, y_train)\n",
    "    mse, rmse = test(y_test, y_pred)\n",
    "    new_dict['depth'].append(i)\n",
    "    new_dict['mse'].append(mse)\n",
    "    new_dict['rmse'].append(rmse)\n",
    "    print('Decision Tree depth: ', i, 'mse: ',mse, 'rmse: ', rmse)\n"
   ]
  },
  {
   "cell_type": "code",
   "execution_count": 115,
   "id": "smooth-province",
   "metadata": {},
   "outputs": [
    {
     "data": {
      "text/plain": [
       "<AxesSubplot:xlabel='depth'>"
      ]
     },
     "execution_count": 115,
     "metadata": {},
     "output_type": "execute_result"
    },
    {
     "data": {
      "image/png": "[encoded data removed]",
      "text/plain": [
       "<Figure size 432x288 with 1 Axes>"
      ]
     },
     "metadata": {
      "needs_background": "light"
     },
     "output_type": "display_data"
    },
    {
     "data": {
      "image/png": "[encoded data removed]",
      "text/plain": [
       "<Figure size 432x288 with 1 Axes>"
      ]
     },
     "metadata": {
      "needs_background": "light"
     },
     "output_type": "display_data"
    }
   ],
   "source": [
    "d = pd.DataFrame(new_dict, columns=new_dict.keys())\n",
    "d.plot(x='depth', y='mse', kind='line')\n",
    "d.plot(x='depth', y='rmse', kind='line', colormap='flag')\n"
   ]
  },
  {
   "cell_type": "markdown",
   "id": "invisible-inside",
   "metadata": {},
   "source": [
    "\n",
    "<div dir='rtl'>\n",
    " <br>\n",
    " همانطور که در نمودار های بالا مشخص است، در ارتفاع های بسیار کم خطا بسیار زیاد است. در ارتفاع های بین ۵ تا ۱۵ در کمترین میزان های خود است ولی با اضافه شدن ارتفاع می بینیم که خطا بیشتر می شود و در ارتفاع های زیاد دیگر نغییری نمی کند و ثابت می ماند. \n",
    "</div>\n"
   ]
  },
  {
   "cell_type": "markdown",
   "id": "exciting-prospect",
   "metadata": {},
   "source": [
    "## ‫‪random‬‬ ‫‪forest‬‬"
   ]
  },
  {
   "cell_type": "code",
   "execution_count": 1,
   "id": "continuing-fourth",
   "metadata": {},
   "outputs": [
    {
     "ename": "NameError",
     "evalue": "name 'train_test_split' is not defined",
     "output_type": "error",
     "traceback": [
      "\u001b[0;31m---------------------------------------------------------------------------\u001b[0m",
      "\u001b[0;31mNameError\u001b[0m                                 Traceback (most recent call last)",
      "\u001b[0;32m<ipython-input-1-24924ee19a68>\u001b[0m in \u001b[0;36m<module>\u001b[0;34m\u001b[0m\n\u001b[1;32m      1\u001b[0m \u001b[0;32mfrom\u001b[0m \u001b[0msklearn\u001b[0m\u001b[0;34m.\u001b[0m\u001b[0mensemble\u001b[0m \u001b[0;32mimport\u001b[0m \u001b[0mRandomForestRegressor\u001b[0m\u001b[0;34m\u001b[0m\u001b[0;34m\u001b[0m\u001b[0m\n\u001b[1;32m      2\u001b[0m \u001b[0;34m\u001b[0m\u001b[0m\n\u001b[0;32m----> 3\u001b[0;31m \u001b[0mX_train\u001b[0m\u001b[0;34m,\u001b[0m \u001b[0mX_test\u001b[0m\u001b[0;34m,\u001b[0m \u001b[0my_train\u001b[0m\u001b[0;34m,\u001b[0m \u001b[0my_test\u001b[0m \u001b[0;34m=\u001b[0m \u001b[0mtrain_test_split\u001b[0m\u001b[0;34m(\u001b[0m\u001b[0mx\u001b[0m\u001b[0;34m,\u001b[0m \u001b[0my\u001b[0m\u001b[0;34m,\u001b[0m \u001b[0mtest_size\u001b[0m \u001b[0;34m=\u001b[0m \u001b[0;36m0.1\u001b[0m\u001b[0;34m)\u001b[0m\u001b[0;34m\u001b[0m\u001b[0;34m\u001b[0m\u001b[0m\n\u001b[0m\u001b[1;32m      4\u001b[0m \u001b[0;34m\u001b[0m\u001b[0m\n\u001b[1;32m      5\u001b[0m param_grid = {\n",
      "\u001b[0;31mNameError\u001b[0m: name 'train_test_split' is not defined"
     ]
    }
   ],
   "source": [
    "from sklearn.ensemble import RandomForestRegressor\n",
    "\n",
    "X_train, X_test, y_train, y_test = train_test_split(x, y, test_size = 0.1)\n",
    "\n",
    "param_grid = {\n",
    "    'min_weight_fraction_leaf': [0, 1, 1.5, 3.2, 5.8, 8.4, 10.7],\n",
    "    'min_samples_leaf': range(1,10, 3),   \n",
    "}\n",
    "\n",
    "\n",
    "rfr = RandomForestRegressor()\n",
    "grid_search = GridSearchCV(estimator = rfr, param_grid = param_grid, cv = 3, n_jobs = -1, verbose = 3)\n",
    "y_pred = trains(rfr,X_train, X_test, y_train)\n",
    "grid_r = grid_search.fit(X_train, y_train)\n",
    "print(grid_r.best_params_, grid_r.best_score_)\n",
    "mse, rmse = test(y_test, y_pred)\n",
    "mse, rmse"
   ]
  },
  {
   "cell_type": "code",
   "execution_count": null,
   "id": "bridal-activity",
   "metadata": {},
   "outputs": [],
   "source": [
    "scores = [x[1] for x in clf.grid_scores_]\n",
    "scores = np.array(scores).reshape(len(param_grid['max_depth']),\n",
    "                                  len(param_grid['min_samples_leaf']), len(param_grid['min_weight_fraction_leaf']))\n",
    "\n",
    "# for ind, i in enumerate(Cs):\n",
    "#     plt.plot(Gammas, scores[ind], label='C: ' + str(i))\n",
    "# plt.legend()\n",
    "# plt.xlabel('Gamma')\n",
    "# plt.ylabel('Mean score')\n",
    "# plt.show()\n"
   ]
  }
 ],
 "metadata": {
  "kernelspec": {
   "display_name": "Python 3",
   "language": "python",
   "name": "python3"
  },
  "language_info": {
   "codemirror_mode": {
    "name": "ipython",
    "version": 3
   },
   "file_extension": ".py",
   "mimetype": "text/x-python",
   "name": "python",
   "nbconvert_exporter": "python",
   "pygments_lexer": "ipython3",
   "version": "3.8.5"
  }
 },
 "nbformat": 4,
 "nbformat_minor": 5
}
